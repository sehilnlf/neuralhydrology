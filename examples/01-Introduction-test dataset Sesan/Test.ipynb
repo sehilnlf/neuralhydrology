{
 "cells": [
  {
   "cell_type": "code",
   "execution_count": 1,
   "id": "6799012b-d495-41af-9131-a923b31e6184",
   "metadata": {},
   "outputs": [],
   "source": [
    "import pandas as pd\n",
    "import glob\n",
    "from pathlib import Path\n",
    "from functools import reduce\n"
   ]
  },
  {
   "cell_type": "code",
   "execution_count": 2,
   "id": "bae1f302-a45b-4ca5-ad66-e698bd338a95",
   "metadata": {},
   "outputs": [
    {
     "data": {
      "text/plain": [
       "WindowsPath('Reorganized_Sesan_Data/attributes')"
      ]
     },
     "execution_count": 2,
     "metadata": {},
     "output_type": "execute_result"
    }
   ],
   "source": [
    "data_dir = Path(\"./Reorganized_Sesan_Data/\")\n",
    "attributes_path = data_dir / 'attributes'\n",
    "attributes_path"
   ]
  },
  {
   "cell_type": "code",
   "execution_count": 3,
   "id": "3024d48b-be9e-4302-aab9-cfd6ad5f8d3f",
   "metadata": {},
   "outputs": [],
   "source": [
    "attributes_path = data_dir / 'attributes'\n",
    "if not attributes_path.exists():\n",
    "    raise FileNotFoundError(f\"Attributes folder not found at {attributes_path}\")\n",
    "\n",
    "files = list(attributes_path.glob('*.csv'))\n",
    "if not files:\n",
    "    raise FileNotFoundError('No attributes files found')\n",
    "\n",
    "# Read-in attributes into one big dataframe. Sort by both axes so we can check for identical axes.\n",
    "dfs = []\n",
    "for f in files:\n",
    "    df = pd.read_csv(f, dtype={0: str})  # make sure we read the basin id as str\n",
    "    df = df.set_index(df.columns[0]).sort_index(axis=0).sort_index(axis=1)\n",
    "    if df.index.has_duplicates or df.columns.has_duplicates:\n",
    "        raise ValueError(f'Attributes file {f} contains duplicate basin ids or features.')\n",
    "    dfs.append(df)"
   ]
  },
  {
   "cell_type": "code",
   "execution_count": 4,
   "id": "7d8dd2c9-48fc-4fff-b51c-151e7af85c30",
   "metadata": {},
   "outputs": [
    {
     "data": {
      "text/html": [
       "<div>\n",
       "<style scoped>\n",
       "    .dataframe tbody tr th:only-of-type {\n",
       "        vertical-align: middle;\n",
       "    }\n",
       "\n",
       "    .dataframe tbody tr th {\n",
       "        vertical-align: top;\n",
       "    }\n",
       "\n",
       "    .dataframe thead th {\n",
       "        text-align: right;\n",
       "    }\n",
       "</style>\n",
       "<table border=\"1\" class=\"dataframe\">\n",
       "  <thead>\n",
       "    <tr style=\"text-align: right;\">\n",
       "      <th></th>\n",
       "      <th>AREA</th>\n",
       "      <th>SLOPE_MEAN</th>\n",
       "      <th>mean_elevation</th>\n",
       "    </tr>\n",
       "    <tr>\n",
       "      <th>SUBID</th>\n",
       "      <th></th>\n",
       "      <th></th>\n",
       "      <th></th>\n",
       "    </tr>\n",
       "  </thead>\n",
       "  <tbody>\n",
       "    <tr>\n",
       "      <th>8154</th>\n",
       "      <td>77500000.0</td>\n",
       "      <td>1.705177</td>\n",
       "      <td>610.960215</td>\n",
       "    </tr>\n",
       "  </tbody>\n",
       "</table>\n",
       "</div>"
      ],
      "text/plain": [
       "             AREA  SLOPE_MEAN  mean_elevation\n",
       "SUBID                                        \n",
       "8154   77500000.0    1.705177      610.960215"
      ]
     },
     "execution_count": 4,
     "metadata": {},
     "output_type": "execute_result"
    }
   ],
   "source": [
    "df"
   ]
  },
  {
   "cell_type": "code",
   "execution_count": 5,
   "id": "ecc6db41-deb3-48c6-845b-7a992f1aa857",
   "metadata": {},
   "outputs": [],
   "source": [
    "# # path = \"./Reorganized_Sesan_Data/attributes/\"\n",
    "\n",
    "# dfs = []\n",
    "# for f in attributes_path.glob(\"*.csv\"):\n",
    "#     df = pd.read_csv(f, dtype={0: str}).T  # make sure we read the basin id as str\n",
    "#     df = df.set_index(df.columns[0])\n",
    "#     df = df.sort_index(axis=0)\n",
    "#     df = df.sort_index(axis=1)\n",
    "#     if df.index.has_duplicates or df.columns.has_duplicates:\n",
    "#         raise ValueError(f'Attributes file {f} contains duplicate basin ids or features.')\n",
    "#     dfs.append(df)\n",
    "#     # dfs.append(df)"
   ]
  },
  {
   "cell_type": "code",
   "execution_count": 6,
   "id": "c01e0942-2a6a-4046-ad0e-cfd81914ff35",
   "metadata": {},
   "outputs": [],
   "source": [
    "# df = pd.read_csv(f, dtype={0: str})  # make sure we read the basin id as str\n",
    "# df.set_index(df.columns[0])"
   ]
  },
  {
   "cell_type": "code",
   "execution_count": 7,
   "id": "fc03a792-5533-4cb7-8940-4efaa0f15ae6",
   "metadata": {},
   "outputs": [
    {
     "data": {
      "text/plain": [
       "[             AREA  SLOPE_MEAN  mean_elevation\n",
       " SUBID                                        \n",
       " 10206  91500000.0    2.400893      787.998984,\n",
       "                AREA  SLOPE_MEAN  mean_elevation\n",
       " SUBID                                          \n",
       " 10305  1.210000e+09    3.243262      981.340993,\n",
       "              AREA  SLOPE_MEAN  mean_elevation\n",
       " SUBID                                        \n",
       " 8154   77500000.0    1.705177      610.960215]"
      ]
     },
     "execution_count": 7,
     "metadata": {},
     "output_type": "execute_result"
    }
   ],
   "source": [
    "dfs"
   ]
  },
  {
   "cell_type": "code",
   "execution_count": 8,
   "id": "cc374d84-7fe6-4073-aebc-18a9bed59b2e",
   "metadata": {},
   "outputs": [
    {
     "data": {
      "text/html": [
       "<div>\n",
       "<style scoped>\n",
       "    .dataframe tbody tr th:only-of-type {\n",
       "        vertical-align: middle;\n",
       "    }\n",
       "\n",
       "    .dataframe tbody tr th {\n",
       "        vertical-align: top;\n",
       "    }\n",
       "\n",
       "    .dataframe thead th {\n",
       "        text-align: right;\n",
       "    }\n",
       "</style>\n",
       "<table border=\"1\" class=\"dataframe\">\n",
       "  <thead>\n",
       "    <tr style=\"text-align: right;\">\n",
       "      <th></th>\n",
       "      <th>SUBID</th>\n",
       "      <th>mean_elevation</th>\n",
       "      <th>SLOPE_MEAN</th>\n",
       "      <th>AREA</th>\n",
       "    </tr>\n",
       "  </thead>\n",
       "  <tbody>\n",
       "    <tr>\n",
       "      <th>0</th>\n",
       "      <td>8154</td>\n",
       "      <td>610.960215</td>\n",
       "      <td>1.705177</td>\n",
       "      <td>77500000.0</td>\n",
       "    </tr>\n",
       "  </tbody>\n",
       "</table>\n",
       "</div>"
      ],
      "text/plain": [
       "  SUBID  mean_elevation  SLOPE_MEAN        AREA\n",
       "0  8154      610.960215    1.705177  77500000.0"
      ]
     },
     "execution_count": 8,
     "metadata": {},
     "output_type": "execute_result"
    }
   ],
   "source": [
    "pd.read_csv(f, dtype={0: str}).sort_index(axis=0)\n"
   ]
  },
  {
   "cell_type": "code",
   "execution_count": 9,
   "id": "99e2479c-da18-4e4a-b91f-caa2480a7006",
   "metadata": {},
   "outputs": [
    {
     "data": {
      "text/plain": [
       "0"
      ]
     },
     "execution_count": 9,
     "metadata": {},
     "output_type": "execute_result"
    }
   ],
   "source": [
    "len(reduce(lambda idx, other_idx: idx.intersection(other_idx), (df.index for df in dfs)))"
   ]
  },
  {
   "cell_type": "code",
   "execution_count": 10,
   "id": "b3f1cc39-8c62-4544-aabe-b45c286fbee5",
   "metadata": {},
   "outputs": [
    {
     "data": {
      "text/plain": [
       "[Index(['10206'], dtype='object', name='SUBID'),\n",
       " Index(['10305'], dtype='object', name='SUBID'),\n",
       " Index(['8154'], dtype='object', name='SUBID')]"
      ]
     },
     "execution_count": 10,
     "metadata": {},
     "output_type": "execute_result"
    }
   ],
   "source": [
    "seq = [df.index for df in dfs]\n",
    "seq"
   ]
  },
  {
   "cell_type": "code",
   "execution_count": 11,
   "id": "5112c6dd-dbe5-444b-af49-eb42cb430a21",
   "metadata": {},
   "outputs": [],
   "source": [
    "if len(dfs) == 1:\n",
    "    df = dfs[0]\n",
    "else:\n",
    "    if len(reduce(lambda idx, other_idx: idx.intersection(other_idx), (df.index for df in dfs))) > 0:\n",
    "        # basin intersection is non-empty -> concatenate attributes, keep intersection of basins\n",
    "        if np.any(np.unique(np.concatenate([df.columns for df in dfs]), return_counts=True)[1] > 1):\n",
    "            raise ValueError('If attributes dataframes refer to the same basins, no attribute name may occur '\n",
    "                             'multiple times across the different attributes files.')\n",
    "        concat_axis = 1\n",
    "    elif len(reduce(lambda cols, other_cols: cols.intersection(other_cols), (df.columns for df in dfs))) > 0:\n",
    "        # attributes intersection is non-empty -> concatenate basins, keep intersection of attributes\n",
    "        # no need to check for basin duplicates, since then we'd have had a non-empty basin intersection.\n",
    "        concat_axis = 0\n",
    "    else:\n",
    "        raise ValueError('Attribute files must overlap on either the index or the columns.')\n",
    "\n",
    "    df = pd.concat(dfs, axis=concat_axis, join='inner')"
   ]
  },
  {
   "cell_type": "code",
   "execution_count": 12,
   "id": "6aa37eba-2bb5-4dc8-aa5e-8c24cb36feeb",
   "metadata": {},
   "outputs": [],
   "source": [
    "df['std_0_column'] = [0,0,0]"
   ]
  },
  {
   "cell_type": "code",
   "execution_count": 13,
   "id": "e8216fa1-7259-45e0-81c1-a1c60faf83c0",
   "metadata": {},
   "outputs": [
    {
     "data": {
      "text/plain": [
       "['std_0_column']"
      ]
     },
     "execution_count": 13,
     "metadata": {},
     "output_type": "execute_result"
    }
   ],
   "source": [
    "zero_std_cols = df.columns[df.std() == 0].tolist()\n",
    "zero_std_cols"
   ]
  },
  {
   "cell_type": "code",
   "execution_count": 14,
   "id": "c593074f-c156-48c5-8cd4-a04b9a6c91b9",
   "metadata": {},
   "outputs": [
    {
     "data": {
      "text/plain": [
       "459666666.6666667"
      ]
     },
     "execution_count": 14,
     "metadata": {},
     "output_type": "execute_result"
    }
   ],
   "source": [
    "import numpy as np\n",
    "np.mean(df['AREA'])"
   ]
  },
  {
   "cell_type": "code",
   "execution_count": 15,
   "id": "ae243926-4318-4ff7-8758-1d80a348d1d4",
   "metadata": {},
   "outputs": [
    {
     "data": {
      "text/plain": [
       "AREA              6.498454e+08\n",
       "SLOPE_MEAN        7.702070e-01\n",
       "mean_elevation    1.852502e+02\n",
       "std_0_column      0.000000e+00\n",
       "dtype: float64"
      ]
     },
     "execution_count": 15,
     "metadata": {},
     "output_type": "execute_result"
    }
   ],
   "source": [
    "df.std() "
   ]
  },
  {
   "cell_type": "code",
   "execution_count": 16,
   "id": "5e6cb6c8-c233-4602-be72-e7682a0cb2e4",
   "metadata": {},
   "outputs": [
    {
     "data": {
      "text/plain": [
       "AREA              False\n",
       "SLOPE_MEAN        False\n",
       "mean_elevation    False\n",
       "std_0_column      False\n",
       "dtype: bool"
      ]
     },
     "execution_count": 16,
     "metadata": {},
     "output_type": "execute_result"
    }
   ],
   "source": [
    "df.std().isnull()"
   ]
  },
  {
   "cell_type": "code",
   "execution_count": 17,
   "id": "724ce3f0-4500-4bf2-8858-8081dc5e7b0c",
   "metadata": {},
   "outputs": [
    {
     "data": {
      "text/plain": [
       "True"
      ]
     },
     "execution_count": 17,
     "metadata": {},
     "output_type": "execute_result"
    }
   ],
   "source": [
    "any(df.std() == 0.0) or any(df.std().isnull())"
   ]
  },
  {
   "cell_type": "code",
   "execution_count": 18,
   "id": "1dac47e7-e75a-4c23-87a4-215a6d9746c8",
   "metadata": {},
   "outputs": [],
   "source": [
    "attributes = []\n",
    "if any(df.std() == 0.0) or any(df.std().isnull()):\n",
    "    for k, v in df.std().items():\n",
    "        if (v == 0) or (np.isnan(v)):\n",
    "            attributes.append(k)"
   ]
  },
  {
   "cell_type": "code",
   "execution_count": 19,
   "id": "54a92684-6c69-4589-b423-2a436ae926ca",
   "metadata": {},
   "outputs": [
    {
     "data": {
      "text/plain": [
       "['std_0_column']"
      ]
     },
     "execution_count": 19,
     "metadata": {},
     "output_type": "execute_result"
    }
   ],
   "source": [
    "attributes"
   ]
  },
  {
   "cell_type": "code",
   "execution_count": 20,
   "id": "56879cef-9bd1-4dee-bf37-a9498565a98b",
   "metadata": {},
   "outputs": [
    {
     "data": {
      "text/html": [
       "<div>\n",
       "<style scoped>\n",
       "    .dataframe tbody tr th:only-of-type {\n",
       "        vertical-align: middle;\n",
       "    }\n",
       "\n",
       "    .dataframe tbody tr th {\n",
       "        vertical-align: top;\n",
       "    }\n",
       "\n",
       "    .dataframe thead th {\n",
       "        text-align: right;\n",
       "    }\n",
       "</style>\n",
       "<table border=\"1\" class=\"dataframe\">\n",
       "  <thead>\n",
       "    <tr style=\"text-align: right;\">\n",
       "      <th></th>\n",
       "      <th>AREA</th>\n",
       "      <th>SLOPE_MEAN</th>\n",
       "      <th>mean_elevation</th>\n",
       "      <th>std_0_column</th>\n",
       "    </tr>\n",
       "    <tr>\n",
       "      <th>SUBID</th>\n",
       "      <th></th>\n",
       "      <th></th>\n",
       "      <th></th>\n",
       "      <th></th>\n",
       "    </tr>\n",
       "  </thead>\n",
       "  <tbody>\n",
       "    <tr>\n",
       "      <th>10206</th>\n",
       "      <td>9.150000e+07</td>\n",
       "      <td>2.400893</td>\n",
       "      <td>787.998984</td>\n",
       "      <td>0</td>\n",
       "    </tr>\n",
       "    <tr>\n",
       "      <th>10305</th>\n",
       "      <td>1.210000e+09</td>\n",
       "      <td>3.243262</td>\n",
       "      <td>981.340993</td>\n",
       "      <td>0</td>\n",
       "    </tr>\n",
       "    <tr>\n",
       "      <th>8154</th>\n",
       "      <td>7.750000e+07</td>\n",
       "      <td>1.705177</td>\n",
       "      <td>610.960215</td>\n",
       "      <td>0</td>\n",
       "    </tr>\n",
       "  </tbody>\n",
       "</table>\n",
       "</div>"
      ],
      "text/plain": [
       "               AREA  SLOPE_MEAN  mean_elevation  std_0_column\n",
       "SUBID                                                        \n",
       "10206  9.150000e+07    2.400893      787.998984             0\n",
       "10305  1.210000e+09    3.243262      981.340993             0\n",
       "8154   7.750000e+07    1.705177      610.960215             0"
      ]
     },
     "execution_count": 20,
     "metadata": {},
     "output_type": "execute_result"
    }
   ],
   "source": [
    "df"
   ]
  },
  {
   "cell_type": "code",
   "execution_count": 21,
   "id": "c1250a8f-36ea-4ca0-ae8d-e6b59717d908",
   "metadata": {},
   "outputs": [],
   "source": [
    "# df = self._load_attributes()\n",
    "\n",
    "# remove all attributes not defined in the config\n",
    "missing_attrs = [attr for attr in ['mean_elevation', 'SLOPE_MEAN', 'AREA'] if attr not in df.columns]\n",
    "if len(missing_attrs) > 0:\n",
    "    raise ValueError(f'Static attributes {missing_attrs} are missing.')\n",
    "df = df[['mean_elevation', 'SLOPE_MEAN', 'AREA']]"
   ]
  },
  {
   "cell_type": "code",
   "execution_count": 22,
   "id": "8cc8af49-4a71-4ee2-97b4-d3e3f7bcc805",
   "metadata": {},
   "outputs": [
    {
     "data": {
      "text/html": [
       "<div>\n",
       "<style scoped>\n",
       "    .dataframe tbody tr th:only-of-type {\n",
       "        vertical-align: middle;\n",
       "    }\n",
       "\n",
       "    .dataframe tbody tr th {\n",
       "        vertical-align: top;\n",
       "    }\n",
       "\n",
       "    .dataframe thead th {\n",
       "        text-align: right;\n",
       "    }\n",
       "</style>\n",
       "<table border=\"1\" class=\"dataframe\">\n",
       "  <thead>\n",
       "    <tr style=\"text-align: right;\">\n",
       "      <th></th>\n",
       "      <th>mean_elevation</th>\n",
       "      <th>SLOPE_MEAN</th>\n",
       "      <th>AREA</th>\n",
       "    </tr>\n",
       "    <tr>\n",
       "      <th>SUBID</th>\n",
       "      <th></th>\n",
       "      <th></th>\n",
       "      <th></th>\n",
       "    </tr>\n",
       "  </thead>\n",
       "  <tbody>\n",
       "    <tr>\n",
       "      <th>10206</th>\n",
       "      <td>787.998984</td>\n",
       "      <td>2.400893</td>\n",
       "      <td>9.150000e+07</td>\n",
       "    </tr>\n",
       "    <tr>\n",
       "      <th>10305</th>\n",
       "      <td>981.340993</td>\n",
       "      <td>3.243262</td>\n",
       "      <td>1.210000e+09</td>\n",
       "    </tr>\n",
       "    <tr>\n",
       "      <th>8154</th>\n",
       "      <td>610.960215</td>\n",
       "      <td>1.705177</td>\n",
       "      <td>7.750000e+07</td>\n",
       "    </tr>\n",
       "  </tbody>\n",
       "</table>\n",
       "</div>"
      ],
      "text/plain": [
       "       mean_elevation  SLOPE_MEAN          AREA\n",
       "SUBID                                          \n",
       "10206      787.998984    2.400893  9.150000e+07\n",
       "10305      981.340993    3.243262  1.210000e+09\n",
       "8154       610.960215    1.705177  7.750000e+07"
      ]
     },
     "execution_count": 22,
     "metadata": {},
     "output_type": "execute_result"
    }
   ],
   "source": [
    "df"
   ]
  },
  {
   "cell_type": "code",
   "execution_count": 23,
   "id": "3f633953-d941-4a43-848e-fbd0d74a340b",
   "metadata": {},
   "outputs": [
    {
     "data": {
      "text/plain": [
       "mean_elevation    float64\n",
       "SLOPE_MEAN        float64\n",
       "AREA              float64\n",
       "dtype: object"
      ]
     },
     "execution_count": 23,
     "metadata": {},
     "output_type": "execute_result"
    }
   ],
   "source": [
    "df.dtypes"
   ]
  },
  {
   "cell_type": "code",
   "execution_count": 24,
   "id": "be1ea540-c513-40e4-aa7b-370052474b02",
   "metadata": {},
   "outputs": [],
   "source": [
    "attributes = []\n",
    "if any(df.std() == 0.0) or any(df.std().isnull()):\n",
    "    for k, v in df.std().items():\n",
    "        if (v == 0) or (np.isnan(v)):\n",
    "            attributes.append(k)\n",
    "if attributes:\n",
    "    msg = [\n",
    "        \"The following attributes have a std of zero or NaN, which results in NaN's \",\n",
    "        \"when normalizing the features. Remove the attributes from the attribute feature list \",\n",
    "        \"and restart the run. \\n\", f\"Attributes: {attributes}\"\n",
    "    ]\n",
    "    raise RuntimeError(\"\".join(msg))\n",
    "\n"
   ]
  },
  {
   "cell_type": "code",
   "execution_count": 26,
   "id": "48f8d886-a4b8-437e-9346-40a122840ad0",
   "metadata": {},
   "outputs": [
    {
     "data": {
      "text/plain": [
       "False"
      ]
     },
     "execution_count": 26,
     "metadata": {},
     "output_type": "execute_result"
    }
   ],
   "source": [
    "any(df.std() == 0.0) or any(df.std().isnull())"
   ]
  }
 ],
 "metadata": {
  "kernelspec": {
   "display_name": "Python 3 (ipykernel)",
   "language": "python",
   "name": "python3"
  },
  "language_info": {
   "codemirror_mode": {
    "name": "ipython",
    "version": 3
   },
   "file_extension": ".py",
   "mimetype": "text/x-python",
   "name": "python",
   "nbconvert_exporter": "python",
   "pygments_lexer": "ipython3",
   "version": "3.9.18"
  }
 },
 "nbformat": 4,
 "nbformat_minor": 5
}
